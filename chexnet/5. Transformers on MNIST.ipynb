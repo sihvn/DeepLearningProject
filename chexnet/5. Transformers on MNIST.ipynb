{
 "cells": [
  {
   "cell_type": "markdown",
   "id": "0c953f0a",
   "metadata": {},
   "source": [
    "# 5. Transformers on MNIST\n",
    "\n",
    "### About this notebook\n",
    "\n",
    "This notebook was used in the 50.039 Deep Learning course at the Singapore University of Technology and Design.\n",
    "\n",
    "**Author:** Matthieu DE MARI (matthieu_demari@sutd.edu.sg)\n",
    "\n",
    "**Version:** 1.1 (29/08/2023)\n",
    "\n",
    "**Requirements:**\n",
    "- Python 3 (tested on v3.11.4)\n",
    "- Matplotlib (tested on v3.7.2)\n",
    "- Numpy (tested on v1.25.2)\n",
    "- Torch (tested on v2.0.1+cu118)\n",
    "- Torchvision (tested on v0.15.2+cu118)\n",
    "- We also strongly recommend setting up CUDA on your machine! (At this point, honestly, it is almost mandatory).\n",
    "\n",
    "### Imports and CUDA"
   ]
  },
  {
   "cell_type": "code",
   "execution_count": 9,
   "id": "e780228f",
   "metadata": {},
   "outputs": [],
   "source": [
    "import torch\n",
    "import torch.nn as nn\n",
    "import torch.nn.functional as F\n",
    "from torch.utils.data import DataLoader\n",
    "import torchvision.transforms as transforms\n",
    "import torchvision.datasets as datasets\n",
    "CUDA = torch.cuda.is_available()\n",
    "device = torch.device(\"cuda\" if CUDA else \"cpu\")"
   ]
  },
  {
   "cell_type": "markdown",
   "id": "16b348e5",
   "metadata": {},
   "source": [
    "### Load MNIST\n",
    "\n",
    "At this point, do I really need to explain what this does?"
   ]
  },
  {
   "cell_type": "code",
   "execution_count": 10,
   "id": "975a20d4",
   "metadata": {},
   "outputs": [],
   "source": [
    "from DatasetGenerator import DatasetGenerator"
   ]
  },
  {
   "cell_type": "code",
   "execution_count": 11,
   "id": "86109718",
   "metadata": {},
   "outputs": [],
   "source": [
    "pathDirData = '../raw_data/archive'\n",
    "pathFileTrain = './dataset/train_1.txt'\n",
    "pathFileVal = './dataset/val_1.txt'\n",
    "\n",
    "transResize = 256\n",
    "transCrop = 224\n",
    "trBatchSize = 4\n",
    "num_class = 14\n",
    "\n",
    "normalize = transforms.Normalize([0.485, 0.456, 0.406], [0.229, 0.224, 0.225])\n",
    "\n",
    "transformList = []\n",
    "# transformList.append(transforms.Resize(transResize))\n",
    "transformList.append(transforms.RandomResizedCrop(transCrop))\n",
    "transformList.append(transforms.RandomHorizontalFlip())\n",
    "transformList.append(transforms.ToTensor())\n",
    "transformList.append(normalize)      \n",
    "transformSequence=transforms.Compose(transformList)\n",
    "\n",
    "datasetTrain = DatasetGenerator(pathImageDirectory=pathDirData, pathDatasetFile=pathFileTrain, transform=transformSequence)\n",
    "datasetVal =   DatasetGenerator(pathImageDirectory=pathDirData, pathDatasetFile=pathFileVal, transform=transformSequence)\n",
    "train_loader = DataLoader(dataset=datasetTrain, batch_size=trBatchSize, shuffle=True,  num_workers=12, pin_memory=True)\n",
    "val_loader = DataLoader(dataset=datasetVal, batch_size=trBatchSize, shuffle=False, num_workers=12, pin_memory=True)"
   ]
  },
  {
   "cell_type": "markdown",
   "id": "c0ed71cd",
   "metadata": {},
   "source": [
    "### Define self-attention layer, and Transformer model\n",
    "\n",
    "We will have to flatten the images to process them with Linear operations and attention operations."
   ]
  },
  {
   "cell_type": "code",
   "execution_count": 12,
   "id": "7036659a",
   "metadata": {},
   "outputs": [],
   "source": [
    "# Define a self-attention layer implementation\n",
    "class SelfAttentionLayer(nn.Module):\n",
    "    def __init__(self, in_features):\n",
    "        super(SelfAttentionLayer, self).__init__()\n",
    "        self.in_features = in_features\n",
    "        self.query = nn.Linear(in_features, in_features)\n",
    "        self.key = nn.Linear(in_features, in_features)\n",
    "        self.value = nn.Linear(in_features, in_features)\n",
    "\n",
    "    def forward(self, x):\n",
    "        batch_size = x.size(0)\n",
    "        query = self.query(x).view(batch_size, -1, self.in_features)\n",
    "        key = self.key(x).view(batch_size, -1, self.in_features)\n",
    "        value = self.value(x).view(batch_size, -1, self.in_features)\n",
    "        attention_weights = F.softmax(torch.bmm(query, key.transpose(1, 2))/(self.in_features**0.5), dim = 2)\n",
    "        out = torch.bmm(attention_weights, value).view(batch_size, -1)\n",
    "        return out"
   ]
  },
  {
   "cell_type": "code",
   "execution_count": 13,
   "id": "4aa13450",
   "metadata": {},
   "outputs": [],
   "source": [
    "# Neural network definition using self-attention\n",
    "class Transformer(nn.Module):\n",
    "    def __init__(self):\n",
    "        super(Transformer, self).__init__()\n",
    "        self.avg_pool = nn.AvgPool2d(8)\n",
    "        self.dim_reduce = nn.Conv2d(in_channels = 3, out_channels=1, kernel_size = 1, stride = 1, padding = 0, bias = False)\n",
    "        self.fc1 = nn.Linear(28*28, 128)\n",
    "        self.attention1 = SelfAttentionLayer(128)\n",
    "        self.fc2 = nn.Linear(128, 64)\n",
    "        self.attention2 = SelfAttentionLayer(64)\n",
    "        self.fc3 = nn.Linear(64, 14)\n",
    "\n",
    "    def forward(self, x):\n",
    "        x = self.avg_pool(x)\n",
    "        x = self.dim_reduce(x)\n",
    "        x = x.view(-1, 28*28)\n",
    "        x = F.relu(self.fc1(x))\n",
    "        x = self.attention1(x)\n",
    "        x = F.relu(self.fc2(x))\n",
    "        x = self.attention2(x)\n",
    "        x = self.fc3(x)\n",
    "        # x = nn.Softmax(x)\n",
    "\n",
    "        return x"
   ]
  },
  {
   "cell_type": "markdown",
   "id": "63922484",
   "metadata": {},
   "source": [
    "### Try out our model\n",
    "\n",
    "Create model and see its structure"
   ]
  },
  {
   "cell_type": "code",
   "execution_count": 14,
   "id": "b5ac4d77",
   "metadata": {},
   "outputs": [
    {
     "name": "stdout",
     "output_type": "stream",
     "text": [
      "Transformer(\n",
      "  (avg_pool): AvgPool2d(kernel_size=8, stride=8, padding=0)\n",
      "  (dim_reduce): Conv2d(3, 1, kernel_size=(1, 1), stride=(1, 1), bias=False)\n",
      "  (fc1): Linear(in_features=784, out_features=128, bias=True)\n",
      "  (attention1): SelfAttentionLayer(\n",
      "    (query): Linear(in_features=128, out_features=128, bias=True)\n",
      "    (key): Linear(in_features=128, out_features=128, bias=True)\n",
      "    (value): Linear(in_features=128, out_features=128, bias=True)\n",
      "  )\n",
      "  (fc2): Linear(in_features=128, out_features=64, bias=True)\n",
      "  (attention2): SelfAttentionLayer(\n",
      "    (query): Linear(in_features=64, out_features=64, bias=True)\n",
      "    (key): Linear(in_features=64, out_features=64, bias=True)\n",
      "    (value): Linear(in_features=64, out_features=64, bias=True)\n",
      "  )\n",
      "  (fc3): Linear(in_features=64, out_features=14, bias=True)\n",
      ")\n"
     ]
    }
   ],
   "source": [
    "# Create model\n",
    "model = Transformer()\n",
    "print(model)"
   ]
  },
  {
   "cell_type": "markdown",
   "id": "1e0920ec",
   "metadata": {},
   "source": [
    "### Simple trainer like before\n",
    "\n",
    "Again, very similar to what we have done in Week 4..."
   ]
  },
  {
   "cell_type": "code",
   "execution_count": 15,
   "id": "0969776a",
   "metadata": {},
   "outputs": [],
   "source": [
    "## function to calculate the F1 score\n",
    "def f1_score(tp, fp, fn):\n",
    "    return 2 * (tp) / (2 * tp + fp + fn)"
   ]
  },
  {
   "cell_type": "code",
   "execution_count": 16,
   "id": "602a5f7e",
   "metadata": {},
   "outputs": [
    {
     "name": "stdout",
     "output_type": "stream",
     "text": [
      "Epoch [1/5], Step [100/19617], Loss: 1.4938, tp_sum: 0.0000, fp_sum: 8.0000, fn_sum: 299.0000, cumulative_f1_score: 0.0000\n",
      "Epoch [1/5], Step [200/19617], Loss: 2.5127, tp_sum: 0.0000, fp_sum: 11.0000, fn_sum: 593.0000, cumulative_f1_score: 0.0000\n",
      "Epoch [1/5], Step [300/19617], Loss: 1.9752, tp_sum: 0.0000, fp_sum: 11.0000, fn_sum: 870.0000, cumulative_f1_score: 0.0000\n",
      "Epoch [1/5], Step [400/19617], Loss: 1.4754, tp_sum: 0.0000, fp_sum: 12.0000, fn_sum: 1141.0000, cumulative_f1_score: 0.0000\n",
      "Epoch [1/5], Step [500/19617], Loss: -0.0000, tp_sum: 0.0000, fp_sum: 13.0000, fn_sum: 1423.0000, cumulative_f1_score: 0.0000\n",
      "Epoch [1/5], Step [600/19617], Loss: 1.8551, tp_sum: 0.0000, fp_sum: 13.0000, fn_sum: 1699.0000, cumulative_f1_score: 0.0000\n",
      "Epoch [1/5], Step [700/19617], Loss: 1.1193, tp_sum: 0.0000, fp_sum: 13.0000, fn_sum: 1973.0000, cumulative_f1_score: 0.0000\n",
      "Epoch [1/5], Step [800/19617], Loss: 3.4640, tp_sum: 0.0000, fp_sum: 13.0000, fn_sum: 2279.0000, cumulative_f1_score: 0.0000\n",
      "Epoch [1/5], Step [900/19617], Loss: 1.2603, tp_sum: 0.0000, fp_sum: 13.0000, fn_sum: 2557.0000, cumulative_f1_score: 0.0000\n",
      "Epoch [1/5], Step [1000/19617], Loss: -0.0000, tp_sum: 0.0000, fp_sum: 14.0000, fn_sum: 2841.0000, cumulative_f1_score: 0.0000\n",
      "Epoch [1/5], Step [1100/19617], Loss: 0.3434, tp_sum: 0.0000, fp_sum: 14.0000, fn_sum: 3118.0000, cumulative_f1_score: 0.0000\n",
      "Epoch [1/5], Step [1200/19617], Loss: 0.3601, tp_sum: 1.0000, fp_sum: 15.0000, fn_sum: 3412.0000, cumulative_f1_score: 0.0006\n",
      "Epoch [1/5], Step [1300/19617], Loss: 0.7278, tp_sum: 1.0000, fp_sum: 16.0000, fn_sum: 3700.0000, cumulative_f1_score: 0.0005\n",
      "Epoch [1/5], Step [1400/19617], Loss: 3.5771, tp_sum: 1.0000, fp_sum: 16.0000, fn_sum: 3983.0000, cumulative_f1_score: 0.0005\n",
      "Epoch [1/5], Step [1500/19617], Loss: 2.7524, tp_sum: 2.0000, fp_sum: 16.0000, fn_sum: 4261.0000, cumulative_f1_score: 0.0009\n",
      "Epoch [1/5], Step [1600/19617], Loss: 1.8864, tp_sum: 2.0000, fp_sum: 16.0000, fn_sum: 4517.0000, cumulative_f1_score: 0.0009\n",
      "Epoch [1/5], Step [1700/19617], Loss: 2.2263, tp_sum: 2.0000, fp_sum: 17.0000, fn_sum: 4810.0000, cumulative_f1_score: 0.0008\n",
      "Epoch [1/5], Step [1800/19617], Loss: 0.8954, tp_sum: 2.0000, fp_sum: 18.0000, fn_sum: 5103.0000, cumulative_f1_score: 0.0008\n",
      "Epoch [1/5], Step [1900/19617], Loss: -0.0000, tp_sum: 2.0000, fp_sum: 18.0000, fn_sum: 5381.0000, cumulative_f1_score: 0.0007\n",
      "Epoch [1/5], Step [2000/19617], Loss: 0.9965, tp_sum: 2.0000, fp_sum: 18.0000, fn_sum: 5673.0000, cumulative_f1_score: 0.0007\n",
      "Epoch [1/5], Step [2100/19617], Loss: 1.0517, tp_sum: 2.0000, fp_sum: 18.0000, fn_sum: 5962.0000, cumulative_f1_score: 0.0007\n"
     ]
    },
    {
     "ename": "KeyboardInterrupt",
     "evalue": "",
     "output_type": "error",
     "traceback": [
      "\u001b[1;31m---------------------------------------------------------------------------\u001b[0m",
      "\u001b[1;31mKeyboardInterrupt\u001b[0m                         Traceback (most recent call last)",
      "Cell \u001b[1;32mIn[16], line 18\u001b[0m\n\u001b[0;32m     12\u001b[0m fn_array \u001b[38;5;241m=\u001b[39m [\u001b[38;5;241m0\u001b[39m \u001b[38;5;28;01mfor\u001b[39;00m x \u001b[38;5;129;01min\u001b[39;00m \u001b[38;5;28mrange\u001b[39m(num_class)]\n\u001b[0;32m     13\u001b[0m \u001b[38;5;28;01mfor\u001b[39;00m i, (images, labels) \u001b[38;5;129;01min\u001b[39;00m \u001b[38;5;28menumerate\u001b[39m(train_loader):\n\u001b[0;32m     14\u001b[0m     \u001b[38;5;66;03m# Flatten image\u001b[39;00m\n\u001b[0;32m     15\u001b[0m     \u001b[38;5;66;03m# print(images.shape)\u001b[39;00m\n\u001b[0;32m     16\u001b[0m     \u001b[38;5;66;03m# images = images.reshape(-1, 28*28)\u001b[39;00m\n\u001b[0;32m     17\u001b[0m     \u001b[38;5;66;03m# Forward pass\u001b[39;00m\n\u001b[1;32m---> 18\u001b[0m     outputs \u001b[38;5;241m=\u001b[39m \u001b[43mmodel\u001b[49m\u001b[43m(\u001b[49m\u001b[43mimages\u001b[49m\u001b[43m)\u001b[49m\n\u001b[0;32m     19\u001b[0m     \u001b[38;5;66;03m# print(\"shape of input: \"+ str(images.shape))\u001b[39;00m\n\u001b[0;32m     20\u001b[0m     \u001b[38;5;66;03m# print(\"shape of output \" + str(outputs.shape))\u001b[39;00m\n\u001b[0;32m     21\u001b[0m     \u001b[38;5;66;03m# print(\"shape of labels: \" + str(labels.shape))\u001b[39;00m\n\u001b[0;32m     22\u001b[0m     loss \u001b[38;5;241m=\u001b[39m criterion(outputs, labels)\n",
      "File \u001b[1;32mc:\\Users\\siyang\\Documents\\GitHub\\DeepLearningProject\\.venv\\Lib\\site-packages\\torch\\nn\\modules\\module.py:1511\u001b[0m, in \u001b[0;36mModule._wrapped_call_impl\u001b[1;34m(self, *args, **kwargs)\u001b[0m\n\u001b[0;32m   1509\u001b[0m     \u001b[38;5;28;01mreturn\u001b[39;00m \u001b[38;5;28mself\u001b[39m\u001b[38;5;241m.\u001b[39m_compiled_call_impl(\u001b[38;5;241m*\u001b[39margs, \u001b[38;5;241m*\u001b[39m\u001b[38;5;241m*\u001b[39mkwargs)  \u001b[38;5;66;03m# type: ignore[misc]\u001b[39;00m\n\u001b[0;32m   1510\u001b[0m \u001b[38;5;28;01melse\u001b[39;00m:\n\u001b[1;32m-> 1511\u001b[0m     \u001b[38;5;28;01mreturn\u001b[39;00m \u001b[38;5;28;43mself\u001b[39;49m\u001b[38;5;241;43m.\u001b[39;49m\u001b[43m_call_impl\u001b[49m\u001b[43m(\u001b[49m\u001b[38;5;241;43m*\u001b[39;49m\u001b[43margs\u001b[49m\u001b[43m,\u001b[49m\u001b[43m \u001b[49m\u001b[38;5;241;43m*\u001b[39;49m\u001b[38;5;241;43m*\u001b[39;49m\u001b[43mkwargs\u001b[49m\u001b[43m)\u001b[49m\n",
      "File \u001b[1;32mc:\\Users\\siyang\\Documents\\GitHub\\DeepLearningProject\\.venv\\Lib\\site-packages\\torch\\nn\\modules\\module.py:1520\u001b[0m, in \u001b[0;36mModule._call_impl\u001b[1;34m(self, *args, **kwargs)\u001b[0m\n\u001b[0;32m   1515\u001b[0m \u001b[38;5;66;03m# If we don't have any hooks, we want to skip the rest of the logic in\u001b[39;00m\n\u001b[0;32m   1516\u001b[0m \u001b[38;5;66;03m# this function, and just call forward.\u001b[39;00m\n\u001b[0;32m   1517\u001b[0m \u001b[38;5;28;01mif\u001b[39;00m \u001b[38;5;129;01mnot\u001b[39;00m (\u001b[38;5;28mself\u001b[39m\u001b[38;5;241m.\u001b[39m_backward_hooks \u001b[38;5;129;01mor\u001b[39;00m \u001b[38;5;28mself\u001b[39m\u001b[38;5;241m.\u001b[39m_backward_pre_hooks \u001b[38;5;129;01mor\u001b[39;00m \u001b[38;5;28mself\u001b[39m\u001b[38;5;241m.\u001b[39m_forward_hooks \u001b[38;5;129;01mor\u001b[39;00m \u001b[38;5;28mself\u001b[39m\u001b[38;5;241m.\u001b[39m_forward_pre_hooks\n\u001b[0;32m   1518\u001b[0m         \u001b[38;5;129;01mor\u001b[39;00m _global_backward_pre_hooks \u001b[38;5;129;01mor\u001b[39;00m _global_backward_hooks\n\u001b[0;32m   1519\u001b[0m         \u001b[38;5;129;01mor\u001b[39;00m _global_forward_hooks \u001b[38;5;129;01mor\u001b[39;00m _global_forward_pre_hooks):\n\u001b[1;32m-> 1520\u001b[0m     \u001b[38;5;28;01mreturn\u001b[39;00m \u001b[43mforward_call\u001b[49m\u001b[43m(\u001b[49m\u001b[38;5;241;43m*\u001b[39;49m\u001b[43margs\u001b[49m\u001b[43m,\u001b[49m\u001b[43m \u001b[49m\u001b[38;5;241;43m*\u001b[39;49m\u001b[38;5;241;43m*\u001b[39;49m\u001b[43mkwargs\u001b[49m\u001b[43m)\u001b[49m\n\u001b[0;32m   1522\u001b[0m \u001b[38;5;28;01mtry\u001b[39;00m:\n\u001b[0;32m   1523\u001b[0m     result \u001b[38;5;241m=\u001b[39m \u001b[38;5;28;01mNone\u001b[39;00m\n",
      "Cell \u001b[1;32mIn[13], line 16\u001b[0m, in \u001b[0;36mTransformer.forward\u001b[1;34m(self, x)\u001b[0m\n\u001b[0;32m     14\u001b[0m \u001b[38;5;28;01mdef\u001b[39;00m \u001b[38;5;21mforward\u001b[39m(\u001b[38;5;28mself\u001b[39m, x):\n\u001b[0;32m     15\u001b[0m     \u001b[38;5;66;03m# print(\"bef\" + str(x.shape))\u001b[39;00m\n\u001b[1;32m---> 16\u001b[0m     x \u001b[38;5;241m=\u001b[39m \u001b[38;5;28;43mself\u001b[39;49m\u001b[38;5;241;43m.\u001b[39;49m\u001b[43mavg_pool\u001b[49m\u001b[43m(\u001b[49m\u001b[43mx\u001b[49m\u001b[43m)\u001b[49m\n\u001b[0;32m     17\u001b[0m     \u001b[38;5;66;03m# print(\"before dim reduce, dim is \" + str(x.shape))\u001b[39;00m\n\u001b[0;32m     18\u001b[0m     \u001b[38;5;66;03m# print(\"aft\" + str(x.shape))\u001b[39;00m\n\u001b[0;32m     19\u001b[0m     x \u001b[38;5;241m=\u001b[39m \u001b[38;5;28mself\u001b[39m\u001b[38;5;241m.\u001b[39mdim_reduce(x)\n",
      "File \u001b[1;32mc:\\Users\\siyang\\Documents\\GitHub\\DeepLearningProject\\.venv\\Lib\\site-packages\\torch\\nn\\modules\\module.py:1511\u001b[0m, in \u001b[0;36mModule._wrapped_call_impl\u001b[1;34m(self, *args, **kwargs)\u001b[0m\n\u001b[0;32m   1509\u001b[0m     \u001b[38;5;28;01mreturn\u001b[39;00m \u001b[38;5;28mself\u001b[39m\u001b[38;5;241m.\u001b[39m_compiled_call_impl(\u001b[38;5;241m*\u001b[39margs, \u001b[38;5;241m*\u001b[39m\u001b[38;5;241m*\u001b[39mkwargs)  \u001b[38;5;66;03m# type: ignore[misc]\u001b[39;00m\n\u001b[0;32m   1510\u001b[0m \u001b[38;5;28;01melse\u001b[39;00m:\n\u001b[1;32m-> 1511\u001b[0m     \u001b[38;5;28;01mreturn\u001b[39;00m \u001b[38;5;28;43mself\u001b[39;49m\u001b[38;5;241;43m.\u001b[39;49m\u001b[43m_call_impl\u001b[49m\u001b[43m(\u001b[49m\u001b[38;5;241;43m*\u001b[39;49m\u001b[43margs\u001b[49m\u001b[43m,\u001b[49m\u001b[43m \u001b[49m\u001b[38;5;241;43m*\u001b[39;49m\u001b[38;5;241;43m*\u001b[39;49m\u001b[43mkwargs\u001b[49m\u001b[43m)\u001b[49m\n",
      "File \u001b[1;32mc:\\Users\\siyang\\Documents\\GitHub\\DeepLearningProject\\.venv\\Lib\\site-packages\\torch\\nn\\modules\\module.py:1520\u001b[0m, in \u001b[0;36mModule._call_impl\u001b[1;34m(self, *args, **kwargs)\u001b[0m\n\u001b[0;32m   1515\u001b[0m \u001b[38;5;66;03m# If we don't have any hooks, we want to skip the rest of the logic in\u001b[39;00m\n\u001b[0;32m   1516\u001b[0m \u001b[38;5;66;03m# this function, and just call forward.\u001b[39;00m\n\u001b[0;32m   1517\u001b[0m \u001b[38;5;28;01mif\u001b[39;00m \u001b[38;5;129;01mnot\u001b[39;00m (\u001b[38;5;28mself\u001b[39m\u001b[38;5;241m.\u001b[39m_backward_hooks \u001b[38;5;129;01mor\u001b[39;00m \u001b[38;5;28mself\u001b[39m\u001b[38;5;241m.\u001b[39m_backward_pre_hooks \u001b[38;5;129;01mor\u001b[39;00m \u001b[38;5;28mself\u001b[39m\u001b[38;5;241m.\u001b[39m_forward_hooks \u001b[38;5;129;01mor\u001b[39;00m \u001b[38;5;28mself\u001b[39m\u001b[38;5;241m.\u001b[39m_forward_pre_hooks\n\u001b[0;32m   1518\u001b[0m         \u001b[38;5;129;01mor\u001b[39;00m _global_backward_pre_hooks \u001b[38;5;129;01mor\u001b[39;00m _global_backward_hooks\n\u001b[0;32m   1519\u001b[0m         \u001b[38;5;129;01mor\u001b[39;00m _global_forward_hooks \u001b[38;5;129;01mor\u001b[39;00m _global_forward_pre_hooks):\n\u001b[1;32m-> 1520\u001b[0m     \u001b[38;5;28;01mreturn\u001b[39;00m \u001b[43mforward_call\u001b[49m\u001b[43m(\u001b[49m\u001b[38;5;241;43m*\u001b[39;49m\u001b[43margs\u001b[49m\u001b[43m,\u001b[49m\u001b[43m \u001b[49m\u001b[38;5;241;43m*\u001b[39;49m\u001b[38;5;241;43m*\u001b[39;49m\u001b[43mkwargs\u001b[49m\u001b[43m)\u001b[49m\n\u001b[0;32m   1522\u001b[0m \u001b[38;5;28;01mtry\u001b[39;00m:\n\u001b[0;32m   1523\u001b[0m     result \u001b[38;5;241m=\u001b[39m \u001b[38;5;28;01mNone\u001b[39;00m\n",
      "File \u001b[1;32mc:\\Users\\siyang\\Documents\\GitHub\\DeepLearningProject\\.venv\\Lib\\site-packages\\torch\\nn\\modules\\pooling.py:631\u001b[0m, in \u001b[0;36mAvgPool2d.forward\u001b[1;34m(self, input)\u001b[0m\n\u001b[0;32m    630\u001b[0m \u001b[38;5;28;01mdef\u001b[39;00m \u001b[38;5;21mforward\u001b[39m(\u001b[38;5;28mself\u001b[39m, \u001b[38;5;28minput\u001b[39m: Tensor) \u001b[38;5;241m-\u001b[39m\u001b[38;5;241m>\u001b[39m Tensor:\n\u001b[1;32m--> 631\u001b[0m     \u001b[38;5;28;01mreturn\u001b[39;00m \u001b[43mF\u001b[49m\u001b[38;5;241;43m.\u001b[39;49m\u001b[43mavg_pool2d\u001b[49m\u001b[43m(\u001b[49m\u001b[38;5;28;43minput\u001b[39;49m\u001b[43m,\u001b[49m\u001b[43m \u001b[49m\u001b[38;5;28;43mself\u001b[39;49m\u001b[38;5;241;43m.\u001b[39;49m\u001b[43mkernel_size\u001b[49m\u001b[43m,\u001b[49m\u001b[43m \u001b[49m\u001b[38;5;28;43mself\u001b[39;49m\u001b[38;5;241;43m.\u001b[39;49m\u001b[43mstride\u001b[49m\u001b[43m,\u001b[49m\n\u001b[0;32m    632\u001b[0m \u001b[43m                        \u001b[49m\u001b[38;5;28;43mself\u001b[39;49m\u001b[38;5;241;43m.\u001b[39;49m\u001b[43mpadding\u001b[49m\u001b[43m,\u001b[49m\u001b[43m \u001b[49m\u001b[38;5;28;43mself\u001b[39;49m\u001b[38;5;241;43m.\u001b[39;49m\u001b[43mceil_mode\u001b[49m\u001b[43m,\u001b[49m\u001b[43m \u001b[49m\u001b[38;5;28;43mself\u001b[39;49m\u001b[38;5;241;43m.\u001b[39;49m\u001b[43mcount_include_pad\u001b[49m\u001b[43m,\u001b[49m\u001b[43m \u001b[49m\u001b[38;5;28;43mself\u001b[39;49m\u001b[38;5;241;43m.\u001b[39;49m\u001b[43mdivisor_override\u001b[49m\u001b[43m)\u001b[49m\n",
      "\u001b[1;31mKeyboardInterrupt\u001b[0m: "
     ]
    }
   ],
   "source": [
    "# Create model\n",
    "model = Transformer()\n",
    "# Define the loss function and optimizer\n",
    "criterion = nn.CrossEntropyLoss()\n",
    "optimizer = torch.optim.Adam(model.parameters(), lr = 0.001)\n",
    "\n",
    "# Train the model\n",
    "n_epochs = 5\n",
    "for epoch in range(n_epochs):\n",
    "    tp_array = [0 for x in range(num_class)]\n",
    "    fp_array = [0 for x in range(num_class)]\n",
    "    fn_array = [0 for x in range(num_class)]\n",
    "    for i, (images, labels) in enumerate(train_loader):\n",
    "        # Flatten image\n",
    "        # print(images.shape)\n",
    "        # images = images.reshape(-1, 28*28)\n",
    "        # Forward pass\n",
    "        outputs = model(images)\n",
    "        # print(\"shape of input: \"+ str(images.shape))\n",
    "        # print(\"shape of output \" + str(outputs.shape))\n",
    "        # print(\"shape of labels: \" + str(labels.shape))\n",
    "        loss = criterion(outputs, labels)\n",
    "        # calculate statistics\n",
    "        pred_labels = (nn.Softmax(dim=1)(outputs) > 0.5).long()\n",
    "        tp_array += sum(torch.logical_and(pred_labels, labels))\n",
    "        fp_array += sum(torch.logical_and(torch.logical_xor(pred_labels, labels).long(), pred_labels))\n",
    "        fn_array += sum(torch.logical_and(torch.logical_xor(pred_labels, labels).long(), labels))\n",
    "        # Backprop\n",
    "        optimizer.zero_grad()\n",
    "        loss.backward()\n",
    "        optimizer.step()\n",
    "        # Display\n",
    "        if (i + 1) % 100 == 0:\n",
    "            print(\"Epoch [{}/{}], Step [{}/{}], Loss: {:.4f}, tp_sum: {:.4f}, fp_sum: {:.4f}, fn_sum: {:.4f}, cumulative_f1_score: {:.4f}\".format(epoch + 1, \\\n",
    "                                                                     n_epochs, \\\n",
    "                                                                     i + 1, \\\n",
    "                                                                     len(train_loader), \\\n",
    "                                                                     loss.item(),\\\n",
    "                                                                     sum(tp_array), \\\n",
    "                                                                     sum(fp_array),\\\n",
    "                                                                     sum(fn_array),\\\n",
    "                                                                     f1_score(sum(tp_array), sum(fp_array), sum(fn_array))))"
   ]
  },
  {
   "cell_type": "code",
   "execution_count": null,
   "id": "ad5b10a4",
   "metadata": {},
   "outputs": [
    {
     "data": {
      "text/plain": [
       "tensor([[ 1.4702, -0.2531, -1.2555],\n",
       "        [-0.2202,  1.0028, -0.4013]])"
      ]
     },
     "execution_count": 14,
     "metadata": {},
     "output_type": "execute_result"
    }
   ],
   "source": [
    "torch.randn(2, 3)"
   ]
  },
  {
   "cell_type": "code",
   "execution_count": null,
   "id": "5c7a8e43",
   "metadata": {},
   "outputs": [
    {
     "data": {
      "text/plain": [
       "tensor([[0, 0, 0],\n",
       "        [0, 1, 0]])"
      ]
     },
     "execution_count": 23,
     "metadata": {},
     "output_type": "execute_result"
    }
   ],
   "source": [
    "(nn.Softmax(dim=1)(input) > 0.5).long()\n"
   ]
  },
  {
   "cell_type": "code",
   "execution_count": null,
   "id": "4d90b0a3",
   "metadata": {},
   "outputs": [
    {
     "data": {
      "text/plain": [
       "Softmax(\n",
       "  dim=tensor([[ 1.0308e+00, -5.6095e-01,  7.5387e-01,  1.2724e+00,  2.4425e-01,\n",
       "            2.5905e-01, -1.5240e+00,  1.3018e-01,  4.2109e-02, -6.5810e-01,\n",
       "           -6.1871e-01, -8.5326e-01, -5.8720e-01, -2.7311e+00],\n",
       "          [ 8.8267e-01, -5.9323e-01,  7.6515e-01,  1.0403e+00,  2.5159e-03,\n",
       "            8.5370e-03, -1.2536e+00, -6.8686e-02,  9.9156e-02, -4.8709e-01,\n",
       "           -7.8932e-01, -9.6005e-01, -4.1589e-01, -2.3021e+00],\n",
       "          [ 8.0129e-01, -4.6816e-01,  6.3613e-01,  1.0682e+00,  1.2404e-01,\n",
       "            1.4091e-01, -1.1497e+00,  4.5737e-02, -2.4764e-02, -4.4636e-01,\n",
       "           -4.6768e-01, -7.2844e-01, -4.1407e-01, -2.1323e+00],\n",
       "          [ 1.0949e+00, -4.7864e-01,  9.8542e-01,  1.4261e+00,  2.3810e-01,\n",
       "            9.3057e-02, -1.7310e+00, -1.6389e-01, -8.2908e-02, -5.7505e-01,\n",
       "           -7.9433e-01, -9.7229e-01, -5.2190e-01, -2.9390e+00]],\n",
       "         grad_fn=<AddmmBackward0>)\n",
       ")"
      ]
     },
     "execution_count": 13,
     "metadata": {},
     "output_type": "execute_result"
    }
   ],
   "source": [
    "nn.Softmax(dim=)"
   ]
  },
  {
   "cell_type": "code",
   "execution_count": null,
   "id": "f5ca50d5",
   "metadata": {},
   "outputs": [
    {
     "data": {
      "text/plain": [
       "torch.return_types.max(\n",
       "values=tensor([1.2724, 1.0403, 1.0682, 1.4261]),\n",
       "indices=tensor([3, 3, 3, 3]))"
      ]
     },
     "execution_count": 10,
     "metadata": {},
     "output_type": "execute_result"
    }
   ],
   "source": [
    "torch.max(outputs.data, 1)"
   ]
  },
  {
   "cell_type": "code",
   "execution_count": null,
   "id": "3e16d42e",
   "metadata": {},
   "outputs": [],
   "source": [
    "import torch"
   ]
  },
  {
   "cell_type": "code",
   "execution_count": null,
   "id": "358516c8",
   "metadata": {},
   "outputs": [
    {
     "name": "stdout",
     "output_type": "stream",
     "text": [
      "tensor([[0, 0, 0, 0],\n",
      "        [1, 1, 0, 0]])\n",
      "tensor(2)\n"
     ]
    }
   ],
   "source": [
    "a = torch.tensor([[0,1,0,0],[1,0,0,0]])\n",
    "b = torch.tensor([[0,1,0,0],[0,1,0,0]])\n",
    "print(torch.logical_xor(a,b).long())\n",
    "print(sum(sum(torch.logical_xor(a,b))))"
   ]
  },
  {
   "cell_type": "markdown",
   "id": "8dbe79ea",
   "metadata": {},
   "source": [
    "### Evaluate model\n",
    "\n",
    "We get a 97% test accuracy, after only 5 iterations of training!"
   ]
  },
  {
   "cell_type": "code",
   "execution_count": null,
   "id": "37ef1a58",
   "metadata": {},
   "outputs": [
    {
     "ename": "RuntimeError",
     "evalue": "The size of tensor a (4) must match the size of tensor b (14) at non-singleton dimension 1",
     "output_type": "error",
     "traceback": [
      "\u001b[1;31m---------------------------------------------------------------------------\u001b[0m",
      "\u001b[1;31mRuntimeError\u001b[0m                              Traceback (most recent call last)",
      "Cell \u001b[1;32mIn[102], line 12\u001b[0m\n\u001b[0;32m     10\u001b[0m     _, predicted \u001b[38;5;241m=\u001b[39m torch\u001b[38;5;241m.\u001b[39mmax(outputs\u001b[38;5;241m.\u001b[39mdata, \u001b[38;5;241m1\u001b[39m)\n\u001b[0;32m     11\u001b[0m     total \u001b[38;5;241m+\u001b[39m\u001b[38;5;241m=\u001b[39m labels\u001b[38;5;241m.\u001b[39msize(\u001b[38;5;241m0\u001b[39m)\n\u001b[1;32m---> 12\u001b[0m     correct \u001b[38;5;241m+\u001b[39m\u001b[38;5;241m=\u001b[39m (\u001b[43mpredicted\u001b[49m\u001b[43m \u001b[49m\u001b[38;5;241;43m==\u001b[39;49m\u001b[43m \u001b[49m\u001b[43mlabels\u001b[49m)\u001b[38;5;241m.\u001b[39msum()\u001b[38;5;241m.\u001b[39mitem()\n\u001b[0;32m     13\u001b[0m \u001b[38;5;66;03m# Final display\u001b[39;00m\n\u001b[0;32m     14\u001b[0m \u001b[38;5;28mprint\u001b[39m(\u001b[38;5;124m\"\u001b[39m\u001b[38;5;124mTest Accuracy: \u001b[39m\u001b[38;5;132;01m{}\u001b[39;00m\u001b[38;5;124m \u001b[39m\u001b[38;5;124m%\u001b[39m\u001b[38;5;124m\"\u001b[39m\u001b[38;5;241m.\u001b[39mformat(\u001b[38;5;241m100\u001b[39m\u001b[38;5;241m*\u001b[39mcorrect\u001b[38;5;241m/\u001b[39mtotal))\n",
      "\u001b[1;31mRuntimeError\u001b[0m: The size of tensor a (4) must match the size of tensor b (14) at non-singleton dimension 1"
     ]
    }
   ],
   "source": [
    "# Test the model\n",
    "with torch.no_grad():\n",
    "    correct = 0\n",
    "    total = 0\n",
    "    for images, labels in train_loader:\n",
    "        # Flatten images\n",
    "        # images = images.reshape(-1, 28 * 28)\n",
    "        # Forward pass and accuracy calculation\n",
    "        outputs = model(images)\n",
    "        # _, predicted = torch.max(outputs.data, 1)\n",
    "        \n",
    "        total += labels.size(0)\n",
    "        correct += (predicted == labels).sum().item()\n",
    "    # Final display\n",
    "    print(\"Test Accuracy: {} %\".format(100*correct/total))"
   ]
  },
  {
   "cell_type": "code",
   "execution_count": null,
   "id": "b354f86b",
   "metadata": {},
   "outputs": [
    {
     "ename": "NameError",
     "evalue": "name 'outputs' is not defined",
     "output_type": "error",
     "traceback": [
      "\u001b[1;31m---------------------------------------------------------------------------\u001b[0m",
      "\u001b[1;31mNameError\u001b[0m                                 Traceback (most recent call last)",
      "Cell \u001b[1;32mIn[1], line 1\u001b[0m\n\u001b[1;32m----> 1\u001b[0m \u001b[43moutputs\u001b[49m \n",
      "\u001b[1;31mNameError\u001b[0m: name 'outputs' is not defined"
     ]
    }
   ],
   "source": [
    "outputs "
   ]
  },
  {
   "cell_type": "markdown",
   "id": "c5856322-5b3d-41a8-9366-346eb798ec16",
   "metadata": {},
   "source": [
    "### Quick question\n",
    "\n",
    "Could we obtain a better performance could be obtained by combining Convolutional operations and Attention ones?\n",
    "\n",
    "Would the layer below do the trick?"
   ]
  },
  {
   "cell_type": "code",
   "execution_count": null,
   "id": "b897352f-bb96-408d-95d7-a19ff30edc45",
   "metadata": {},
   "outputs": [],
   "source": [
    "# Define a convolutional attention layer implementation\n",
    "class ConvAttentionLayer(nn.Module):\n",
    "    def __init__(self, in_channels, out_channels, kernel_size=3):\n",
    "        super(ConvAttentionLayer, self).__init__()\n",
    "        self.query_conv = nn.Conv2d(in_channels, out_channels, kernel_size=kernel_size, padding=kernel_size // 2)\n",
    "        self.key_conv = nn.Conv2d(in_channels, out_channels, kernel_size=kernel_size, padding=kernel_size // 2)\n",
    "        self.value_conv = nn.Conv2d(in_channels, out_channels, kernel_size=kernel_size, padding=kernel_size // 2)\n",
    "\n",
    "    def forward(self, x):\n",
    "        query = self.query_conv(x)\n",
    "        key = self.key_conv(x)\n",
    "        value = self.value_conv(x)\n",
    "        batch_size, channels, height, width = query.size()\n",
    "        query = query.view(batch_size, channels, -1)\n",
    "        key = key.view(batch_size, channels, -1)\n",
    "        value = value.view(batch_size, channels, -1)\n",
    "        attention_weights = F.softmax(torch.bmm(query.transpose(1, 2), key), dim=2)\n",
    "        out = torch.bmm(value, attention_weights).view(batch_size, channels, height, width)\n",
    "        return out"
   ]
  },
  {
   "cell_type": "markdown",
   "id": "5539ee8a-b0f1-4908-8625-d7d4536df9f8",
   "metadata": {},
   "source": [
    "Could we then use it to assemble a Convolutional Transformer?"
   ]
  },
  {
   "cell_type": "code",
   "execution_count": null,
   "id": "fb4357b3-c7ea-475c-81ec-38ed7e3b72c4",
   "metadata": {},
   "outputs": [
    {
     "name": "stdout",
     "output_type": "stream",
     "text": [
      "ConvTransformer(\n",
      "  (conv1): Conv2d(1, 16, kernel_size=(3, 3), stride=(1, 1), padding=(1, 1))\n",
      "  (attention1): ConvAttentionLayer(\n",
      "    (query_conv): Conv2d(16, 16, kernel_size=(3, 3), stride=(1, 1), padding=(1, 1))\n",
      "    (key_conv): Conv2d(16, 16, kernel_size=(3, 3), stride=(1, 1), padding=(1, 1))\n",
      "    (value_conv): Conv2d(16, 16, kernel_size=(3, 3), stride=(1, 1), padding=(1, 1))\n",
      "  )\n",
      "  (conv2): Conv2d(16, 32, kernel_size=(3, 3), stride=(1, 1), padding=(1, 1))\n",
      "  (attention2): ConvAttentionLayer(\n",
      "    (query_conv): Conv2d(32, 32, kernel_size=(3, 3), stride=(1, 1), padding=(1, 1))\n",
      "    (key_conv): Conv2d(32, 32, kernel_size=(3, 3), stride=(1, 1), padding=(1, 1))\n",
      "    (value_conv): Conv2d(32, 32, kernel_size=(3, 3), stride=(1, 1), padding=(1, 1))\n",
      "  )\n",
      "  (fc): Linear(in_features=25088, out_features=10, bias=True)\n",
      ")\n"
     ]
    }
   ],
   "source": [
    "# Neural network definition using convolutional attention\n",
    "class ConvTransformer(nn.Module):\n",
    "    def __init__(self):\n",
    "        super(ConvTransformer, self).__init__()\n",
    "        self.conv1 = nn.Conv2d(1, 16, kernel_size = 3, padding = 1)\n",
    "        self.attention1 = ConvAttentionLayer(16, 16)\n",
    "        self.conv2 = nn.Conv2d(16, 32, kernel_size = 3, padding = 1)\n",
    "        self.attention2 = ConvAttentionLayer(32, 32)\n",
    "        self.fc = nn.Linear(32*28*28, 10)\n",
    "\n",
    "    def forward(self, x):\n",
    "        x = F.relu(self.conv1(x))\n",
    "        x = self.attention1(x)\n",
    "        x = F.relu(self.conv2(x))\n",
    "        x = self.attention2(x)\n",
    "        x = x.view(x.size(0), -1)\n",
    "        x = self.fc(x)\n",
    "        return x\n",
    "\n",
    "# Create model\n",
    "conv_model = ConvTransformer()\n",
    "print(conv_model)"
   ]
  },
  {
   "cell_type": "markdown",
   "id": "b50baba2-da99-453d-9493-aff946d1b216",
   "metadata": {},
   "source": [
    "**Open question:** Would that train and obtain better performance than the \"Linear\" transformer we trained earlier?"
   ]
  },
  {
   "cell_type": "code",
   "execution_count": null,
   "id": "8d20370b-247b-499e-ad3e-275dc332f182",
   "metadata": {},
   "outputs": [],
   "source": []
  }
 ],
 "metadata": {
  "kernelspec": {
   "display_name": "Python 3 (ipykernel)",
   "language": "python",
   "name": "python3"
  },
  "language_info": {
   "codemirror_mode": {
    "name": "ipython",
    "version": 3
   },
   "file_extension": ".py",
   "mimetype": "text/x-python",
   "name": "python",
   "nbconvert_exporter": "python",
   "pygments_lexer": "ipython3",
   "version": "3.12.1"
  }
 },
 "nbformat": 4,
 "nbformat_minor": 5
}
