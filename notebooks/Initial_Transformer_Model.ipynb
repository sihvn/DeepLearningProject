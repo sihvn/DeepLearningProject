{
 "cells": [
  {
   "cell_type": "markdown",
   "id": "0c953f0a",
   "metadata": {},
   "source": [
    "# 5. Transformers on MNIST\n",
    "\n",
    "### About this notebook\n",
    "\n",
    "This notebook was used in the 50.039 Deep Learning course at the Singapore University of Technology and Design.\n",
    "\n",
    "**Author:** Matthieu DE MARI (matthieu_demari@sutd.edu.sg)\n",
    "\n",
    "**Version:** 1.1 (29/08/2023)\n",
    "\n",
    "**Requirements:**\n",
    "- Python 3 (tested on v3.11.4)\n",
    "- Matplotlib (tested on v3.7.2)\n",
    "- Numpy (tested on v1.25.2)\n",
    "- Torch (tested on v2.0.1+cu118)\n",
    "- Torchvision (tested on v0.15.2+cu118)\n",
    "- We also strongly recommend setting up CUDA on your machine! (At this point, honestly, it is almost mandatory).\n",
    "\n",
    "### Imports and CUDA"
   ]
  },
  {
   "cell_type": "code",
   "execution_count": 2,
   "id": "e780228f",
   "metadata": {},
   "outputs": [],
   "source": [
    "import torch\n",
    "import torch.nn as nn\n",
    "import torch.nn.functional as F\n",
    "from torch.utils.data import DataLoader\n",
    "import torchvision.transforms as transforms\n",
    "import torchvision.datasets as datasets\n",
    "CUDA = torch.cuda.is_available()\n",
    "device = torch.device(\"cuda\" if CUDA else \"cpu\")"
   ]
  },
  {
   "cell_type": "markdown",
   "id": "16b348e5",
   "metadata": {},
   "source": [
    "### Load MNIST\n",
    "\n",
    "At this point, do I really need to explain what this does?"
   ]
  },
  {
   "cell_type": "code",
   "execution_count": 3,
   "id": "975a20d4",
   "metadata": {},
   "outputs": [],
   "source": [
    "from DatasetGenerator import DatasetGenerator"
   ]
  },
  {
   "cell_type": "code",
   "execution_count": 4,
   "id": "86109718",
   "metadata": {},
   "outputs": [],
   "source": [
    "pathDirData = '../raw_data/archive'\n",
    "pathFileTrain = './dataset/train_1.txt'\n",
    "pathFileVal = './dataset/val_1.txt'\n",
    "\n",
    "transResize = 256\n",
    "transCrop = 224\n",
    "trBatchSize = 4\n",
    "num_class = 14\n",
    "\n",
    "normalize = transforms.Normalize([0.485, 0.456, 0.406], [0.229, 0.224, 0.225])\n",
    "\n",
    "transformList = []\n",
    "# transformList.append(transforms.Resize(transResize))\n",
    "transformList.append(transforms.RandomResizedCrop(transCrop))\n",
    "transformList.append(transforms.RandomHorizontalFlip())\n",
    "transformList.append(transforms.ToTensor())\n",
    "transformList.append(normalize)      \n",
    "transformSequence=transforms.Compose(transformList)\n",
    "\n",
    "datasetTrain = DatasetGenerator(pathImageDirectory=pathDirData, pathDatasetFile=pathFileTrain, transform=transformSequence)\n",
    "datasetVal =   DatasetGenerator(pathImageDirectory=pathDirData, pathDatasetFile=pathFileVal, transform=transformSequence)\n",
    "train_loader = DataLoader(dataset=datasetTrain, batch_size=trBatchSize, shuffle=True,  num_workers=12, pin_memory=True)\n",
    "val_loader = DataLoader(dataset=datasetVal, batch_size=trBatchSize, shuffle=False, num_workers=12, pin_memory=True)"
   ]
  },
  {
   "cell_type": "markdown",
   "id": "c0ed71cd",
   "metadata": {},
   "source": [
    "### Define self-attention layer, and Transformer model\n",
    "\n",
    "We will have to flatten the images to process them with Linear operations and attention operations."
   ]
  },
  {
   "cell_type": "code",
   "execution_count": 5,
   "id": "7036659a",
   "metadata": {},
   "outputs": [],
   "source": [
    "# Define a self-attention layer implementation\n",
    "class SelfAttentionLayer(nn.Module):\n",
    "    def __init__(self, in_features):\n",
    "        super(SelfAttentionLayer, self).__init__()\n",
    "        self.in_features = in_features\n",
    "        self.query = nn.Linear(in_features, in_features)\n",
    "        self.key = nn.Linear(in_features, in_features)\n",
    "        self.value = nn.Linear(in_features, in_features)\n",
    "\n",
    "    def forward(self, x):\n",
    "        batch_size = x.size(0)\n",
    "        query = self.query(x).view(batch_size, -1, self.in_features)\n",
    "        key = self.key(x).view(batch_size, -1, self.in_features)\n",
    "        value = self.value(x).view(batch_size, -1, self.in_features)\n",
    "        attention_weights = F.softmax(torch.bmm(query, key.transpose(1, 2))/(self.in_features**0.5), dim = 2)\n",
    "        out = torch.bmm(attention_weights, value).view(batch_size, -1)\n",
    "        return out"
   ]
  },
  {
   "cell_type": "code",
   "execution_count": 11,
   "id": "4aa13450",
   "metadata": {},
   "outputs": [],
   "source": [
    "# Neural network definition using self-attention\n",
    "class Transformer(nn.Module):\n",
    "    def __init__(self):\n",
    "        super(Transformer, self).__init__()\n",
    "        # self.avg_pool = nn.AvgPool2d(8)\n",
    "        self.dim_reduce = nn.Conv2d(in_channels = 3, out_channels=1, kernel_size = 1, stride = 1, padding = 0, bias = False)\n",
    "        # self.fc1 = nn.Linear(28*28, 128)\n",
    "        self.fc1 = nn.Linear(224*224, 128)\n",
    "        self.attention1 = SelfAttentionLayer(128)\n",
    "        self.fc2 = nn.Linear(128, 64)\n",
    "        self.attention2 = SelfAttentionLayer(64)\n",
    "        self.fc3 = nn.Linear(64, 14)\n",
    "\n",
    "    def forward(self, x):\n",
    "        # x = self.avg_pool(x)\n",
    "        x = self.dim_reduce(x)\n",
    "        # x = x.view(-1, 28*28)\n",
    "        x = x.view(-1, 224 * 224)\n",
    "        x = F.relu(self.fc1(x))\n",
    "        x = self.attention1(x)\n",
    "        x = F.relu(self.fc2(x))\n",
    "        x = self.attention2(x)\n",
    "        x = self.fc3(x)\n",
    "        # x = nn.Softmax(x)\n",
    "\n",
    "        return x"
   ]
  },
  {
   "cell_type": "markdown",
   "id": "63922484",
   "metadata": {},
   "source": [
    "### Try out our model\n",
    "\n",
    "Create model and see its structure"
   ]
  },
  {
   "cell_type": "code",
   "execution_count": 12,
   "id": "b5ac4d77",
   "metadata": {},
   "outputs": [
    {
     "name": "stdout",
     "output_type": "stream",
     "text": [
      "Transformer(\n",
      "  (dim_reduce): Conv2d(3, 1, kernel_size=(1, 1), stride=(1, 1), bias=False)\n",
      "  (fc1): Linear(in_features=50176, out_features=128, bias=True)\n",
      "  (attention1): SelfAttentionLayer(\n",
      "    (query): Linear(in_features=128, out_features=128, bias=True)\n",
      "    (key): Linear(in_features=128, out_features=128, bias=True)\n",
      "    (value): Linear(in_features=128, out_features=128, bias=True)\n",
      "  )\n",
      "  (fc2): Linear(in_features=128, out_features=64, bias=True)\n",
      "  (attention2): SelfAttentionLayer(\n",
      "    (query): Linear(in_features=64, out_features=64, bias=True)\n",
      "    (key): Linear(in_features=64, out_features=64, bias=True)\n",
      "    (value): Linear(in_features=64, out_features=64, bias=True)\n",
      "  )\n",
      "  (fc3): Linear(in_features=64, out_features=14, bias=True)\n",
      ")\n"
     ]
    }
   ],
   "source": [
    "# Create model\n",
    "model = Transformer().to(device)\n",
    "print(model)"
   ]
  },
  {
   "cell_type": "code",
   "execution_count": 13,
   "id": "629dbfb4",
   "metadata": {},
   "outputs": [
    {
     "name": "stdout",
     "output_type": "stream",
     "text": [
      "Model weights are on CUDA (GPU).\n"
     ]
    }
   ],
   "source": [
    "device = next(model.parameters()).device\n",
    "if device.type == 'cuda':\n",
    "    print(\"Model weights are on CUDA (GPU).\")\n",
    "else:\n",
    "    print(\"Model weights are on CPU.\")"
   ]
  },
  {
   "cell_type": "markdown",
   "id": "1e0920ec",
   "metadata": {},
   "source": [
    "### Simple trainer like before\n",
    "\n",
    "Again, very similar to what we have done in Week 4..."
   ]
  },
  {
   "cell_type": "code",
   "execution_count": 14,
   "id": "0969776a",
   "metadata": {},
   "outputs": [],
   "source": [
    "## function to calculate the F1 score\n",
    "def f1_score(tp, fp, fn):\n",
    "    return 2 * (tp) / (2 * tp + fp + fn)"
   ]
  },
  {
   "cell_type": "code",
   "execution_count": 15,
   "id": "602a5f7e",
   "metadata": {},
   "outputs": [
    {
     "name": "stdout",
     "output_type": "stream",
     "text": [
      "Epoch [1/5], Step [100/19617], Loss: 4.3787, tp_sum: 2.0000, fp_sum: 21.0000, fn_sum: 298.0000, cumulative_f1_score: 0.0124\n",
      "Epoch [1/5], Step [200/19617], Loss: 3.0999, tp_sum: 2.0000, fp_sum: 28.0000, fn_sum: 574.0000, cumulative_f1_score: 0.0066\n",
      "Epoch [1/5], Step [300/19617], Loss: 1.2711, tp_sum: 2.0000, fp_sum: 38.0000, fn_sum: 851.0000, cumulative_f1_score: 0.0045\n",
      "Epoch [1/5], Step [400/19617], Loss: 0.3812, tp_sum: 4.0000, fp_sum: 53.0000, fn_sum: 1157.0000, cumulative_f1_score: 0.0066\n",
      "Epoch [1/5], Step [500/19617], Loss: 2.9069, tp_sum: 4.0000, fp_sum: 53.0000, fn_sum: 1461.0000, cumulative_f1_score: 0.0053\n",
      "Epoch [1/5], Step [600/19617], Loss: 3.2502, tp_sum: 5.0000, fp_sum: 54.0000, fn_sum: 1755.0000, cumulative_f1_score: 0.0055\n",
      "Epoch [1/5], Step [700/19617], Loss: -0.0000, tp_sum: 7.0000, fp_sum: 68.0000, fn_sum: 2028.0000, cumulative_f1_score: 0.0066\n",
      "Epoch [1/5], Step [800/19617], Loss: 1.2598, tp_sum: 7.0000, fp_sum: 75.0000, fn_sum: 2297.0000, cumulative_f1_score: 0.0059\n",
      "Epoch [1/5], Step [900/19617], Loss: 1.8991, tp_sum: 7.0000, fp_sum: 75.0000, fn_sum: 2584.0000, cumulative_f1_score: 0.0052\n",
      "Epoch [1/5], Step [1000/19617], Loss: 0.7673, tp_sum: 7.0000, fp_sum: 75.0000, fn_sum: 2888.0000, cumulative_f1_score: 0.0047\n",
      "Epoch [1/5], Step [1100/19617], Loss: 1.6736, tp_sum: 7.0000, fp_sum: 75.0000, fn_sum: 3160.0000, cumulative_f1_score: 0.0043\n",
      "Epoch [1/5], Step [1200/19617], Loss: 0.6282, tp_sum: 7.0000, fp_sum: 75.0000, fn_sum: 3421.0000, cumulative_f1_score: 0.0040\n",
      "Epoch [1/5], Step [1300/19617], Loss: 4.1327, tp_sum: 7.0000, fp_sum: 75.0000, fn_sum: 3695.0000, cumulative_f1_score: 0.0037\n",
      "Epoch [1/5], Step [1400/19617], Loss: 1.6575, tp_sum: 11.0000, fp_sum: 78.0000, fn_sum: 3976.0000, cumulative_f1_score: 0.0054\n",
      "Epoch [1/5], Step [1500/19617], Loss: 1.4872, tp_sum: 11.0000, fp_sum: 78.0000, fn_sum: 4284.0000, cumulative_f1_score: 0.0050\n",
      "Epoch [1/5], Step [1600/19617], Loss: 2.9617, tp_sum: 11.0000, fp_sum: 83.0000, fn_sum: 4552.0000, cumulative_f1_score: 0.0047\n",
      "Epoch [1/5], Step [1700/19617], Loss: 3.0797, tp_sum: 11.0000, fp_sum: 85.0000, fn_sum: 4833.0000, cumulative_f1_score: 0.0045\n",
      "Epoch [1/5], Step [1800/19617], Loss: 0.5138, tp_sum: 11.0000, fp_sum: 85.0000, fn_sum: 5131.0000, cumulative_f1_score: 0.0042\n",
      "Epoch [1/5], Step [1900/19617], Loss: 1.2706, tp_sum: 11.0000, fp_sum: 85.0000, fn_sum: 5430.0000, cumulative_f1_score: 0.0040\n",
      "Epoch [1/5], Step [2000/19617], Loss: 1.6540, tp_sum: 11.0000, fp_sum: 85.0000, fn_sum: 5709.0000, cumulative_f1_score: 0.0038\n",
      "Epoch [1/5], Step [2100/19617], Loss: -0.0000, tp_sum: 11.0000, fp_sum: 85.0000, fn_sum: 5967.0000, cumulative_f1_score: 0.0036\n",
      "Epoch [1/5], Step [2200/19617], Loss: 3.0624, tp_sum: 11.0000, fp_sum: 85.0000, fn_sum: 6282.0000, cumulative_f1_score: 0.0034\n",
      "Epoch [1/5], Step [2300/19617], Loss: 1.2946, tp_sum: 11.0000, fp_sum: 85.0000, fn_sum: 6544.0000, cumulative_f1_score: 0.0033\n",
      "Epoch [1/5], Step [2400/19617], Loss: 1.2475, tp_sum: 11.0000, fp_sum: 85.0000, fn_sum: 6836.0000, cumulative_f1_score: 0.0032\n",
      "Epoch [1/5], Step [2500/19617], Loss: 0.9292, tp_sum: 11.0000, fp_sum: 85.0000, fn_sum: 7092.0000, cumulative_f1_score: 0.0031\n",
      "Epoch [1/5], Step [2600/19617], Loss: 2.1239, tp_sum: 11.0000, fp_sum: 85.0000, fn_sum: 7398.0000, cumulative_f1_score: 0.0029\n",
      "Epoch [1/5], Step [2700/19617], Loss: 1.3863, tp_sum: 11.0000, fp_sum: 85.0000, fn_sum: 7714.0000, cumulative_f1_score: 0.0028\n",
      "Epoch [1/5], Step [2800/19617], Loss: 1.2871, tp_sum: 11.0000, fp_sum: 85.0000, fn_sum: 8012.0000, cumulative_f1_score: 0.0027\n",
      "Epoch [1/5], Step [2900/19617], Loss: 3.2749, tp_sum: 11.0000, fp_sum: 85.0000, fn_sum: 8297.0000, cumulative_f1_score: 0.0026\n",
      "Epoch [1/5], Step [3000/19617], Loss: 2.1314, tp_sum: 11.0000, fp_sum: 85.0000, fn_sum: 8578.0000, cumulative_f1_score: 0.0025\n",
      "Epoch [1/5], Step [3100/19617], Loss: 1.7622, tp_sum: 11.0000, fp_sum: 85.0000, fn_sum: 8869.0000, cumulative_f1_score: 0.0025\n",
      "Epoch [1/5], Step [3200/19617], Loss: 2.5738, tp_sum: 11.0000, fp_sum: 85.0000, fn_sum: 9155.0000, cumulative_f1_score: 0.0024\n",
      "Epoch [1/5], Step [3300/19617], Loss: 0.6758, tp_sum: 11.0000, fp_sum: 85.0000, fn_sum: 9442.0000, cumulative_f1_score: 0.0023\n",
      "Epoch [1/5], Step [3400/19617], Loss: 2.3450, tp_sum: 12.0000, fp_sum: 87.0000, fn_sum: 9731.0000, cumulative_f1_score: 0.0024\n",
      "Epoch [1/5], Step [3500/19617], Loss: 3.9949, tp_sum: 12.0000, fp_sum: 87.0000, fn_sum: 10007.0000, cumulative_f1_score: 0.0024\n",
      "Epoch [1/5], Step [3600/19617], Loss: 2.3489, tp_sum: 13.0000, fp_sum: 88.0000, fn_sum: 10323.0000, cumulative_f1_score: 0.0025\n",
      "Epoch [1/5], Step [3700/19617], Loss: 0.7634, tp_sum: 13.0000, fp_sum: 88.0000, fn_sum: 10604.0000, cumulative_f1_score: 0.0024\n",
      "Epoch [1/5], Step [3800/19617], Loss: 1.1984, tp_sum: 13.0000, fp_sum: 88.0000, fn_sum: 10953.0000, cumulative_f1_score: 0.0023\n",
      "Epoch [1/5], Step [3900/19617], Loss: 1.1329, tp_sum: 13.0000, fp_sum: 88.0000, fn_sum: 11231.0000, cumulative_f1_score: 0.0023\n",
      "Epoch [1/5], Step [4000/19617], Loss: 3.1203, tp_sum: 13.0000, fp_sum: 88.0000, fn_sum: 11510.0000, cumulative_f1_score: 0.0022\n",
      "Epoch [1/5], Step [4100/19617], Loss: 2.4084, tp_sum: 13.0000, fp_sum: 88.0000, fn_sum: 11751.0000, cumulative_f1_score: 0.0022\n",
      "Epoch [1/5], Step [4200/19617], Loss: 2.3253, tp_sum: 13.0000, fp_sum: 88.0000, fn_sum: 12057.0000, cumulative_f1_score: 0.0021\n",
      "Epoch [1/5], Step [4300/19617], Loss: 1.0882, tp_sum: 13.0000, fp_sum: 88.0000, fn_sum: 12317.0000, cumulative_f1_score: 0.0021\n",
      "Epoch [1/5], Step [4400/19617], Loss: 3.7570, tp_sum: 13.0000, fp_sum: 88.0000, fn_sum: 12609.0000, cumulative_f1_score: 0.0020\n",
      "Epoch [1/5], Step [4500/19617], Loss: 1.4100, tp_sum: 13.0000, fp_sum: 88.0000, fn_sum: 12921.0000, cumulative_f1_score: 0.0020\n",
      "Epoch [1/5], Step [4600/19617], Loss: 3.3492, tp_sum: 13.0000, fp_sum: 93.0000, fn_sum: 13225.0000, cumulative_f1_score: 0.0019\n",
      "Epoch [1/5], Step [4700/19617], Loss: 3.5517, tp_sum: 14.0000, fp_sum: 94.0000, fn_sum: 13509.0000, cumulative_f1_score: 0.0021\n",
      "Epoch [1/5], Step [4800/19617], Loss: 2.4935, tp_sum: 14.0000, fp_sum: 94.0000, fn_sum: 13767.0000, cumulative_f1_score: 0.0020\n",
      "Epoch [1/5], Step [4900/19617], Loss: -0.0000, tp_sum: 14.0000, fp_sum: 94.0000, fn_sum: 14054.0000, cumulative_f1_score: 0.0020\n",
      "Epoch [1/5], Step [5000/19617], Loss: 1.6768, tp_sum: 14.0000, fp_sum: 94.0000, fn_sum: 14320.0000, cumulative_f1_score: 0.0019\n",
      "Epoch [1/5], Step [5100/19617], Loss: 2.7172, tp_sum: 14.0000, fp_sum: 94.0000, fn_sum: 14605.0000, cumulative_f1_score: 0.0019\n",
      "Epoch [1/5], Step [5200/19617], Loss: 1.3673, tp_sum: 14.0000, fp_sum: 95.0000, fn_sum: 14899.0000, cumulative_f1_score: 0.0019\n",
      "Epoch [1/5], Step [5300/19617], Loss: 2.4623, tp_sum: 14.0000, fp_sum: 96.0000, fn_sum: 15158.0000, cumulative_f1_score: 0.0018\n",
      "Epoch [1/5], Step [5400/19617], Loss: 3.3719, tp_sum: 14.0000, fp_sum: 96.0000, fn_sum: 15422.0000, cumulative_f1_score: 0.0018\n",
      "Epoch [1/5], Step [5500/19617], Loss: 4.6666, tp_sum: 14.0000, fp_sum: 96.0000, fn_sum: 15730.0000, cumulative_f1_score: 0.0018\n",
      "Epoch [1/5], Step [5600/19617], Loss: 0.3547, tp_sum: 14.0000, fp_sum: 96.0000, fn_sum: 16007.0000, cumulative_f1_score: 0.0017\n",
      "Epoch [1/5], Step [5700/19617], Loss: 0.8335, tp_sum: 14.0000, fp_sum: 96.0000, fn_sum: 16250.0000, cumulative_f1_score: 0.0017\n",
      "Epoch [1/5], Step [5800/19617], Loss: -0.0000, tp_sum: 14.0000, fp_sum: 96.0000, fn_sum: 16525.0000, cumulative_f1_score: 0.0017\n",
      "Epoch [1/5], Step [5900/19617], Loss: -0.0000, tp_sum: 14.0000, fp_sum: 96.0000, fn_sum: 16810.0000, cumulative_f1_score: 0.0017\n",
      "Epoch [1/5], Step [6000/19617], Loss: 2.0384, tp_sum: 14.0000, fp_sum: 96.0000, fn_sum: 17120.0000, cumulative_f1_score: 0.0016\n",
      "Epoch [1/5], Step [6100/19617], Loss: 0.7167, tp_sum: 14.0000, fp_sum: 96.0000, fn_sum: 17363.0000, cumulative_f1_score: 0.0016\n",
      "Epoch [1/5], Step [6200/19617], Loss: 1.6809, tp_sum: 14.0000, fp_sum: 96.0000, fn_sum: 17614.0000, cumulative_f1_score: 0.0016\n",
      "Epoch [1/5], Step [6300/19617], Loss: 2.8178, tp_sum: 14.0000, fp_sum: 96.0000, fn_sum: 17889.0000, cumulative_f1_score: 0.0016\n",
      "Epoch [1/5], Step [6400/19617], Loss: 1.2854, tp_sum: 14.0000, fp_sum: 96.0000, fn_sum: 18222.0000, cumulative_f1_score: 0.0015\n",
      "Epoch [1/5], Step [6500/19617], Loss: 2.3491, tp_sum: 14.0000, fp_sum: 96.0000, fn_sum: 18530.0000, cumulative_f1_score: 0.0015\n",
      "Epoch [1/5], Step [6600/19617], Loss: 0.8652, tp_sum: 14.0000, fp_sum: 96.0000, fn_sum: 18827.0000, cumulative_f1_score: 0.0015\n",
      "Epoch [1/5], Step [6700/19617], Loss: 0.7775, tp_sum: 14.0000, fp_sum: 96.0000, fn_sum: 19135.0000, cumulative_f1_score: 0.0015\n",
      "Epoch [1/5], Step [6800/19617], Loss: 0.5052, tp_sum: 14.0000, fp_sum: 96.0000, fn_sum: 19453.0000, cumulative_f1_score: 0.0014\n",
      "Epoch [1/5], Step [6900/19617], Loss: 1.5372, tp_sum: 14.0000, fp_sum: 96.0000, fn_sum: 19719.0000, cumulative_f1_score: 0.0014\n",
      "Epoch [1/5], Step [7000/19617], Loss: 1.7057, tp_sum: 14.0000, fp_sum: 96.0000, fn_sum: 20005.0000, cumulative_f1_score: 0.0014\n",
      "Epoch [1/5], Step [7100/19617], Loss: 2.3319, tp_sum: 14.0000, fp_sum: 96.0000, fn_sum: 20275.0000, cumulative_f1_score: 0.0014\n",
      "Epoch [1/5], Step [7200/19617], Loss: 0.7483, tp_sum: 14.0000, fp_sum: 96.0000, fn_sum: 20582.0000, cumulative_f1_score: 0.0014\n",
      "Epoch [1/5], Step [7300/19617], Loss: 1.8222, tp_sum: 14.0000, fp_sum: 96.0000, fn_sum: 20900.0000, cumulative_f1_score: 0.0013\n",
      "Epoch [1/5], Step [7400/19617], Loss: 2.1257, tp_sum: 14.0000, fp_sum: 96.0000, fn_sum: 21210.0000, cumulative_f1_score: 0.0013\n",
      "Epoch [1/5], Step [7500/19617], Loss: 1.9918, tp_sum: 14.0000, fp_sum: 96.0000, fn_sum: 21527.0000, cumulative_f1_score: 0.0013\n",
      "Epoch [1/5], Step [7600/19617], Loss: 2.2939, tp_sum: 14.0000, fp_sum: 96.0000, fn_sum: 21804.0000, cumulative_f1_score: 0.0013\n",
      "Epoch [1/5], Step [7700/19617], Loss: 0.6675, tp_sum: 14.0000, fp_sum: 96.0000, fn_sum: 22112.0000, cumulative_f1_score: 0.0013\n",
      "Epoch [1/5], Step [7800/19617], Loss: 1.3631, tp_sum: 14.0000, fp_sum: 96.0000, fn_sum: 22393.0000, cumulative_f1_score: 0.0012\n",
      "Epoch [1/5], Step [7900/19617], Loss: 1.7950, tp_sum: 14.0000, fp_sum: 96.0000, fn_sum: 22699.0000, cumulative_f1_score: 0.0012\n",
      "Epoch [1/5], Step [8000/19617], Loss: 0.4411, tp_sum: 14.0000, fp_sum: 96.0000, fn_sum: 23020.0000, cumulative_f1_score: 0.0012\n",
      "Epoch [1/5], Step [8100/19617], Loss: 0.3851, tp_sum: 14.0000, fp_sum: 96.0000, fn_sum: 23303.0000, cumulative_f1_score: 0.0012\n",
      "Epoch [1/5], Step [8200/19617], Loss: 1.4409, tp_sum: 14.0000, fp_sum: 96.0000, fn_sum: 23549.0000, cumulative_f1_score: 0.0012\n",
      "Epoch [1/5], Step [8300/19617], Loss: 2.7236, tp_sum: 14.0000, fp_sum: 96.0000, fn_sum: 23853.0000, cumulative_f1_score: 0.0012\n",
      "Epoch [1/5], Step [8400/19617], Loss: 1.1945, tp_sum: 14.0000, fp_sum: 96.0000, fn_sum: 24144.0000, cumulative_f1_score: 0.0012\n"
     ]
    },
    {
     "ename": "KeyboardInterrupt",
     "evalue": "",
     "output_type": "error",
     "traceback": [
      "\u001b[1;31m---------------------------------------------------------------------------\u001b[0m",
      "\u001b[1;31mKeyboardInterrupt\u001b[0m                         Traceback (most recent call last)",
      "Cell \u001b[1;32mIn[15], line 45\u001b[0m\n\u001b[0;32m     35\u001b[0m \u001b[38;5;66;03m# Display\u001b[39;00m\n\u001b[0;32m     36\u001b[0m \u001b[38;5;28;01mif\u001b[39;00m (i \u001b[38;5;241m+\u001b[39m \u001b[38;5;241m1\u001b[39m) \u001b[38;5;241m%\u001b[39m \u001b[38;5;241m100\u001b[39m \u001b[38;5;241m==\u001b[39m \u001b[38;5;241m0\u001b[39m:\n\u001b[0;32m     37\u001b[0m     \u001b[38;5;28mprint\u001b[39m(\u001b[38;5;124m\"\u001b[39m\u001b[38;5;124mEpoch [\u001b[39m\u001b[38;5;132;01m{}\u001b[39;00m\u001b[38;5;124m/\u001b[39m\u001b[38;5;132;01m{}\u001b[39;00m\u001b[38;5;124m], Step [\u001b[39m\u001b[38;5;132;01m{}\u001b[39;00m\u001b[38;5;124m/\u001b[39m\u001b[38;5;132;01m{}\u001b[39;00m\u001b[38;5;124m], Loss: \u001b[39m\u001b[38;5;132;01m{:.4f}\u001b[39;00m\u001b[38;5;124m, tp_sum: \u001b[39m\u001b[38;5;132;01m{:.4f}\u001b[39;00m\u001b[38;5;124m, fp_sum: \u001b[39m\u001b[38;5;132;01m{:.4f}\u001b[39;00m\u001b[38;5;124m, fn_sum: \u001b[39m\u001b[38;5;132;01m{:.4f}\u001b[39;00m\u001b[38;5;124m, cumulative_f1_score: \u001b[39m\u001b[38;5;132;01m{:.4f}\u001b[39;00m\u001b[38;5;124m\"\u001b[39m\u001b[38;5;241m.\u001b[39mformat(epoch \u001b[38;5;241m+\u001b[39m \u001b[38;5;241m1\u001b[39m, \\\n\u001b[0;32m     38\u001b[0m                                                              n_epochs, \\\n\u001b[0;32m     39\u001b[0m                                                              i \u001b[38;5;241m+\u001b[39m \u001b[38;5;241m1\u001b[39m, \\\n\u001b[0;32m     40\u001b[0m                                                              \u001b[38;5;28mlen\u001b[39m(train_loader), \\\n\u001b[0;32m     41\u001b[0m                                                              loss\u001b[38;5;241m.\u001b[39mitem(),\\\n\u001b[0;32m     42\u001b[0m                                                              \u001b[38;5;28msum\u001b[39m(tp_array), \\\n\u001b[0;32m     43\u001b[0m                                                              \u001b[38;5;28msum\u001b[39m(fp_array),\\\n\u001b[0;32m     44\u001b[0m                                                              \u001b[38;5;28msum\u001b[39m(fn_array),\\\n\u001b[1;32m---> 45\u001b[0m                                                              f1_score(\u001b[38;5;28msum\u001b[39m(tp_array), \u001b[38;5;28;43msum\u001b[39;49m\u001b[43m(\u001b[49m\u001b[43mfp_array\u001b[49m\u001b[43m)\u001b[49m, \u001b[38;5;28msum\u001b[39m(fn_array))))\n",
      "\u001b[1;31mKeyboardInterrupt\u001b[0m: "
     ]
    }
   ],
   "source": [
    "# Create model\n",
    "model = Transformer().to(device)\n",
    "# Define the loss function and optimizer\n",
    "criterion = nn.CrossEntropyLoss()\n",
    "optimizer = torch.optim.Adam(model.parameters(), lr = 0.001)\n",
    "\n",
    "# Train the model\n",
    "n_epochs = 5\n",
    "for epoch in range(n_epochs):\n",
    "    tp_array = [0 for x in range(num_class)]\n",
    "    fp_array = [0 for x in range(num_class)]\n",
    "    fn_array = [0 for x in range(num_class)]\n",
    "    for i, (images, labels, _) in enumerate(train_loader):\n",
    "        images = images.to(device)\n",
    "        labels = labels.to(device)\n",
    "        # Flatten image\n",
    "        # print(images.shape)\n",
    "        # images = images.reshape(-1, 28*28)\n",
    "\n",
    "        # Forward pass\n",
    "        outputs = model(images)\n",
    "        # print(\"shape of input: \"+ str(images.shape))\n",
    "        # print(\"shape of output \" + str(outputs.shape))\n",
    "        # print(\"shape of labels: \" + str(labels.shape))\n",
    "        loss = criterion(outputs, labels)\n",
    "        # calculate statistics\n",
    "        pred_labels = (nn.Softmax(dim=1)(outputs) > 0.5).long()\n",
    "        tp_array += sum(torch.logical_and(pred_labels, labels))\n",
    "        fp_array += sum(torch.logical_and(torch.logical_xor(pred_labels, labels).long(), pred_labels))\n",
    "        fn_array += sum(torch.logical_and(torch.logical_xor(pred_labels, labels).long(), labels))\n",
    "        # Backprop\n",
    "        optimizer.zero_grad()\n",
    "        loss.backward()\n",
    "        optimizer.step()\n",
    "        # Display\n",
    "        if (i + 1) % 100 == 0:\n",
    "            print(\"Epoch [{}/{}], Step [{}/{}], Loss: {:.4f}, tp_sum: {:.4f}, fp_sum: {:.4f}, fn_sum: {:.4f}, cumulative_f1_score: {:.4f}\".format(epoch + 1, \\\n",
    "                                                                     n_epochs, \\\n",
    "                                                                     i + 1, \\\n",
    "                                                                     len(train_loader), \\\n",
    "                                                                     loss.item(),\\\n",
    "                                                                     sum(tp_array), \\\n",
    "                                                                     sum(fp_array),\\\n",
    "                                                                     sum(fn_array),\\\n",
    "                                                                     f1_score(sum(tp_array), sum(fp_array), sum(fn_array))))"
   ]
  },
  {
   "cell_type": "markdown",
   "id": "8dbe79ea",
   "metadata": {},
   "source": [
    "### Evaluate model\n",
    "\n",
    "We get a 97% test accuracy, after only 5 iterations of training!"
   ]
  },
  {
   "cell_type": "code",
   "execution_count": null,
   "id": "37ef1a58",
   "metadata": {},
   "outputs": [
    {
     "ename": "RuntimeError",
     "evalue": "The size of tensor a (4) must match the size of tensor b (14) at non-singleton dimension 1",
     "output_type": "error",
     "traceback": [
      "\u001b[1;31m---------------------------------------------------------------------------\u001b[0m",
      "\u001b[1;31mRuntimeError\u001b[0m                              Traceback (most recent call last)",
      "Cell \u001b[1;32mIn[102], line 12\u001b[0m\n\u001b[0;32m     10\u001b[0m     _, predicted \u001b[38;5;241m=\u001b[39m torch\u001b[38;5;241m.\u001b[39mmax(outputs\u001b[38;5;241m.\u001b[39mdata, \u001b[38;5;241m1\u001b[39m)\n\u001b[0;32m     11\u001b[0m     total \u001b[38;5;241m+\u001b[39m\u001b[38;5;241m=\u001b[39m labels\u001b[38;5;241m.\u001b[39msize(\u001b[38;5;241m0\u001b[39m)\n\u001b[1;32m---> 12\u001b[0m     correct \u001b[38;5;241m+\u001b[39m\u001b[38;5;241m=\u001b[39m (\u001b[43mpredicted\u001b[49m\u001b[43m \u001b[49m\u001b[38;5;241;43m==\u001b[39;49m\u001b[43m \u001b[49m\u001b[43mlabels\u001b[49m)\u001b[38;5;241m.\u001b[39msum()\u001b[38;5;241m.\u001b[39mitem()\n\u001b[0;32m     13\u001b[0m \u001b[38;5;66;03m# Final display\u001b[39;00m\n\u001b[0;32m     14\u001b[0m \u001b[38;5;28mprint\u001b[39m(\u001b[38;5;124m\"\u001b[39m\u001b[38;5;124mTest Accuracy: \u001b[39m\u001b[38;5;132;01m{}\u001b[39;00m\u001b[38;5;124m \u001b[39m\u001b[38;5;124m%\u001b[39m\u001b[38;5;124m\"\u001b[39m\u001b[38;5;241m.\u001b[39mformat(\u001b[38;5;241m100\u001b[39m\u001b[38;5;241m*\u001b[39mcorrect\u001b[38;5;241m/\u001b[39mtotal))\n",
      "\u001b[1;31mRuntimeError\u001b[0m: The size of tensor a (4) must match the size of tensor b (14) at non-singleton dimension 1"
     ]
    }
   ],
   "source": [
    "# Test the model\n",
    "with torch.no_grad():\n",
    "    correct = 0\n",
    "    total = 0\n",
    "    for images, labels in train_loader:\n",
    "        # Flatten images\n",
    "        # images = images.reshape(-1, 28 * 28)\n",
    "        # Forward pass and accuracy calculation\n",
    "        outputs = model(images)\n",
    "        # _, predicted = torch.max(outputs.data, 1)\n",
    "        \n",
    "        total += labels.size(0)\n",
    "        correct += (predicted == labels).sum().item()\n",
    "    # Final display\n",
    "    print(\"Test Accuracy: {} %\".format(100*correct/total))"
   ]
  },
  {
   "cell_type": "code",
   "execution_count": null,
   "id": "b354f86b",
   "metadata": {},
   "outputs": [
    {
     "ename": "NameError",
     "evalue": "name 'outputs' is not defined",
     "output_type": "error",
     "traceback": [
      "\u001b[1;31m---------------------------------------------------------------------------\u001b[0m",
      "\u001b[1;31mNameError\u001b[0m                                 Traceback (most recent call last)",
      "Cell \u001b[1;32mIn[1], line 1\u001b[0m\n\u001b[1;32m----> 1\u001b[0m \u001b[43moutputs\u001b[49m \n",
      "\u001b[1;31mNameError\u001b[0m: name 'outputs' is not defined"
     ]
    }
   ],
   "source": [
    "outputs "
   ]
  },
  {
   "cell_type": "markdown",
   "id": "c5856322-5b3d-41a8-9366-346eb798ec16",
   "metadata": {},
   "source": [
    "### Quick question\n",
    "\n",
    "Could we obtain a better performance could be obtained by combining Convolutional operations and Attention ones?\n",
    "\n",
    "Would the layer below do the trick?"
   ]
  },
  {
   "cell_type": "code",
   "execution_count": null,
   "id": "b897352f-bb96-408d-95d7-a19ff30edc45",
   "metadata": {},
   "outputs": [],
   "source": [
    "# Define a convolutional attention layer implementation\n",
    "class ConvAttentionLayer(nn.Module):\n",
    "    def __init__(self, in_channels, out_channels, kernel_size=3):\n",
    "        super(ConvAttentionLayer, self).__init__()\n",
    "        self.query_conv = nn.Conv2d(in_channels, out_channels, kernel_size=kernel_size, padding=kernel_size // 2)\n",
    "        self.key_conv = nn.Conv2d(in_channels, out_channels, kernel_size=kernel_size, padding=kernel_size // 2)\n",
    "        self.value_conv = nn.Conv2d(in_channels, out_channels, kernel_size=kernel_size, padding=kernel_size // 2)\n",
    "\n",
    "    def forward(self, x):\n",
    "        query = self.query_conv(x)\n",
    "        key = self.key_conv(x)\n",
    "        value = self.value_conv(x)\n",
    "        batch_size, channels, height, width = query.size()\n",
    "        query = query.view(batch_size, channels, -1)\n",
    "        key = key.view(batch_size, channels, -1)\n",
    "        value = value.view(batch_size, channels, -1)\n",
    "        attention_weights = F.softmax(torch.bmm(query.transpose(1, 2), key), dim=2)\n",
    "        out = torch.bmm(value, attention_weights).view(batch_size, channels, height, width)\n",
    "        return out"
   ]
  },
  {
   "cell_type": "markdown",
   "id": "5539ee8a-b0f1-4908-8625-d7d4536df9f8",
   "metadata": {},
   "source": [
    "Could we then use it to assemble a Convolutional Transformer?"
   ]
  },
  {
   "cell_type": "code",
   "execution_count": null,
   "id": "fb4357b3-c7ea-475c-81ec-38ed7e3b72c4",
   "metadata": {},
   "outputs": [
    {
     "name": "stdout",
     "output_type": "stream",
     "text": [
      "ConvTransformer(\n",
      "  (conv1): Conv2d(1, 16, kernel_size=(3, 3), stride=(1, 1), padding=(1, 1))\n",
      "  (attention1): ConvAttentionLayer(\n",
      "    (query_conv): Conv2d(16, 16, kernel_size=(3, 3), stride=(1, 1), padding=(1, 1))\n",
      "    (key_conv): Conv2d(16, 16, kernel_size=(3, 3), stride=(1, 1), padding=(1, 1))\n",
      "    (value_conv): Conv2d(16, 16, kernel_size=(3, 3), stride=(1, 1), padding=(1, 1))\n",
      "  )\n",
      "  (conv2): Conv2d(16, 32, kernel_size=(3, 3), stride=(1, 1), padding=(1, 1))\n",
      "  (attention2): ConvAttentionLayer(\n",
      "    (query_conv): Conv2d(32, 32, kernel_size=(3, 3), stride=(1, 1), padding=(1, 1))\n",
      "    (key_conv): Conv2d(32, 32, kernel_size=(3, 3), stride=(1, 1), padding=(1, 1))\n",
      "    (value_conv): Conv2d(32, 32, kernel_size=(3, 3), stride=(1, 1), padding=(1, 1))\n",
      "  )\n",
      "  (fc): Linear(in_features=25088, out_features=10, bias=True)\n",
      ")\n"
     ]
    }
   ],
   "source": [
    "# Neural network definition using convolutional attention\n",
    "class ConvTransformer(nn.Module):\n",
    "    def __init__(self):\n",
    "        super(ConvTransformer, self).__init__()\n",
    "        self.conv1 = nn.Conv2d(1, 16, kernel_size = 3, padding = 1)\n",
    "        self.attention1 = ConvAttentionLayer(16, 16)\n",
    "        self.conv2 = nn.Conv2d(16, 32, kernel_size = 3, padding = 1)\n",
    "        self.attention2 = ConvAttentionLayer(32, 32)\n",
    "        self.fc = nn.Linear(32*28*28, 10)\n",
    "\n",
    "    def forward(self, x):\n",
    "        x = F.relu(self.conv1(x))\n",
    "        x = self.attention1(x)\n",
    "        x = F.relu(self.conv2(x))\n",
    "        x = self.attention2(x)\n",
    "        x = x.view(x.size(0), -1)\n",
    "        x = self.fc(x)\n",
    "        return x\n",
    "\n",
    "# Create model\n",
    "conv_model = ConvTransformer()\n",
    "print(conv_model)"
   ]
  },
  {
   "cell_type": "markdown",
   "id": "b50baba2-da99-453d-9493-aff946d1b216",
   "metadata": {},
   "source": [
    "**Open question:** Would that train and obtain better performance than the \"Linear\" transformer we trained earlier?"
   ]
  },
  {
   "cell_type": "code",
   "execution_count": null,
   "id": "8d20370b-247b-499e-ad3e-275dc332f182",
   "metadata": {},
   "outputs": [],
   "source": []
  }
 ],
 "metadata": {
  "kernelspec": {
   "display_name": "Python 3 (ipykernel)",
   "language": "python",
   "name": "python3"
  },
  "language_info": {
   "codemirror_mode": {
    "name": "ipython",
    "version": 3
   },
   "file_extension": ".py",
   "mimetype": "text/x-python",
   "name": "python",
   "nbconvert_exporter": "python",
   "pygments_lexer": "ipython3",
   "version": "3.12.1"
  }
 },
 "nbformat": 4,
 "nbformat_minor": 5
}
